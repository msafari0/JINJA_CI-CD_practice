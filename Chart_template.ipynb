{
 "cells": [
  {
   "cell_type": "code",
   "execution_count": 1,
   "id": "2f52b65b",
   "metadata": {},
   "outputs": [],
   "source": [
    "import jinja2\n",
    "import os\n",
    "import csv\n",
    "import pandas as pd\n",
    "from flask import Flask, render_template"
   ]
  },
  {
   "cell_type": "code",
   "execution_count": 2,
   "id": "203a95ff",
   "metadata": {},
   "outputs": [
    {
     "name": "stdout",
     "output_type": "stream",
     "text": [
      "Template has been rendered and saved to ./output_chart.html\n"
     ]
    }
   ],
   "source": [
    "def render_index(tpl_path, context):\n",
    "    path, filename = os.path.split(tpl_path)\n",
    "\n",
    "    environment = jinja2.Environment(undefined=jinja2.StrictUndefined,\n",
    "        loader=jinja2.FileSystemLoader(path or '.')) #It means jinja will take templates of environment from file in the introduced path\n",
    "\n",
    "    return environment.get_template(filename).render(context)\n",
    "\n",
    "\n",
    "def render_template(template_path, output_path, context):\n",
    "    # Load the template environment\n",
    "    template_loader = jinja2.FileSystemLoader(searchpath=os.path.dirname(template_path))\n",
    "    template_env = jinja2.Environment(loader=template_loader, autoescape=True)\n",
    "    \n",
    "    def load_csv_data(file_path):\n",
    "        return pd.read_csv(file_path).to_dict(orient='list')\n",
    "    template_env.filters['load_csv_data'] = load_csv_data\n",
    "    # Load the template\n",
    "    template = template_env.get_template(os.path.basename(template_path))\n",
    "    \n",
    "    \n",
    "    # Render the template with the provided context\n",
    "    output_html = template.render(context)\n",
    "\n",
    "    # Write the rendered HTML to the output file\n",
    "    with open(output_path, 'w') as output_file:\n",
    "        output_file.write(output_html)\n",
    "\n",
    "def gen_index(flist):\n",
    "    entries = {}\n",
    "    #n=0\n",
    "    for filename in flist:\n",
    "        _, basename = os.path.split(filename)\n",
    "        name, _ = os.path.splitext(basename)\n",
    "        entries[name+'.html'] = name\n",
    "        #entries[name+f'{n}'+'.html'] = name+f'{n}'\n",
    "        #n+=1\n",
    "    with open ('index.html', 'w') as f:\n",
    "        f.write(render_index('index.tmpl', {'entries': entries}))\n",
    "\n",
    "if __name__ == \"__main__\":\n",
    "    # Define the data for filling in the template\n",
    "    page_title = \"Chart with Data from File\"\n",
    "    data_file_path = \"./results.dat\"\n",
    "    \n",
    "    datasets = [\n",
    "        {'label': 'phqscf', 'name': 'phqscf', 'index': 3, 'backgroundColor': 'rgba(255, 0, 0, 0.7)'},\n",
    "        {'label': 'dynmat0', 'name': 'dynmat0', 'index': 4, 'backgroundColor': 'rgba(0, 255, 0, 0.7)'},\n",
    "        {'label': 'sth_kernel', 'name': 'sth_kernel', 'index': 5, 'backgroundColor': 'rgba(0, 0, 255, 0.7)'},\n",
    "        {'label': 'h_psi', 'name': 'h_psi', 'index': 6, 'backgroundColor': 'rgba(255, 165, 0, 0.7)'},\n",
    "    ]\n",
    "\n",
    "    # Define the output path for the rendered HTML\n",
    "    output_path = \"./output_chart.html\"\n",
    "\n",
    "    # Create the context to be used in the template\n",
    "    context = {\n",
    "        'page_title': page_title,\n",
    "        'data_file_path': data_file_path,\n",
    "        'datasets': datasets,\n",
    "    }\n",
    "\n",
    "    # Render the template and save the output HTML\n",
    "    #render_template(\"chart.tmpl\", output_path, context)\n",
    "    filenames = []\n",
    "    filenames.append(output_path)\n",
    "    #print(filenames)\n",
    "    flist = []\n",
    "    for filename in list(filenames):\n",
    "        render_template(\"chart.tmpl\", output_path, context)\n",
    "        filenames.append(output_path)\n",
    "        flist.append(filename)\n",
    "\n",
    "    gen_index(flist)\n",
    "    \n",
    "    print(f\"Template has been rendered and saved to {output_path}\")\n"
   ]
  },
  {
   "cell_type": "code",
   "execution_count": null,
   "id": "00db539e",
   "metadata": {},
   "outputs": [],
   "source": []
  }
 ],
 "metadata": {
  "kernelspec": {
   "display_name": "JINJAenv",
   "language": "python",
   "name": "jinjaenv"
  },
  "language_info": {
   "codemirror_mode": {
    "name": "ipython",
    "version": 3
   },
   "file_extension": ".py",
   "mimetype": "text/x-python",
   "name": "python",
   "nbconvert_exporter": "python",
   "pygments_lexer": "ipython3",
   "version": "3.11.2"
  }
 },
 "nbformat": 4,
 "nbformat_minor": 5
}
